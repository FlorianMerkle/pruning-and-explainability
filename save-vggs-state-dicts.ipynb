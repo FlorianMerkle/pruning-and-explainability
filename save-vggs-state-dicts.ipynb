{
 "cells": [
  {
   "cell_type": "code",
   "execution_count": 1,
   "id": "37a20cbe",
   "metadata": {},
   "outputs": [],
   "source": [
    "from load_models import load_vgg\n",
    "from pathlib import Path\n",
    "import torch\n"
   ]
  },
  {
   "cell_type": "code",
   "execution_count": 3,
   "id": "6406e96a",
   "metadata": {},
   "outputs": [],
   "source": [
    "VGG_PATH = Path('./models/trained_imgnette_models/run8_vgg_100ep_ft.pt')\n",
    "CPR2_VGG_PATH = Path('./models/pruned_models/local_magnitude_unstructured-pretrained/2-compression_26-01-2022_14-05-19.pt')\n",
    "CPR4_VGG_PATH = Path('./models/pruned_models/local_magnitude_unstructured-pretrained/4-compression_26-01-2022_14-34-50.pt')\n",
    "CPR8_VGG_PATH = Path('./models/pruned_models/local_magnitude_unstructured-pretrained/8-compression_26-01-2022_15-02-25.pt')\n",
    "CPR16_VGG_PATH = Path('./models/pruned_models/local_magnitude_unstructured-pretrained/16-compression_26-01-2022_15-43-34.pt')\n",
    "CPR32_VGG_PATH = Path('./models/pruned_models/local_magnitude_unstructured-pretrained/32-compression_26-01-2022_16-49-45.pt')\n",
    "CPR64_VGG_PATH = Path('./models/pruned_models/local_magnitude_unstructured-pretrained/64-compression_26-01-2022_17-36-35.pt')"
   ]
  },
  {
   "cell_type": "code",
   "execution_count": 4,
   "id": "bfff492d",
   "metadata": {},
   "outputs": [],
   "source": [
    "model = torch.load(VGG_PATH)\n",
    "cpr2_model = torch.load(CPR2_VGG_PATH)\n",
    "cpr4_model = torch.load(CPR4_VGG_PATH)\n",
    "cpr8_model = torch.load(CPR8_VGG_PATH)\n",
    "cpr16_model = torch.load(CPR16_VGG_PATH)\n",
    "cpr32_model = torch.load(CPR32_VGG_PATH)\n",
    "cpr64_model = torch.load(CPR64_VGG_PATH)"
   ]
  },
  {
   "cell_type": "code",
   "execution_count": 15,
   "id": "fe1a68d5",
   "metadata": {},
   "outputs": [],
   "source": [
    "SAVE_PATH = Path('./models/VGG16.pt')\n",
    "torch.save(model.state_dict(), SAVE_PATH)"
   ]
  },
  {
   "cell_type": "code",
   "execution_count": 16,
   "id": "d6971751",
   "metadata": {},
   "outputs": [],
   "source": [
    "SAVE_PATH = Path('./models/CPR2-VGG16.pt')\n",
    "torch.save(cpr2_model.state_dict(), SAVE_PATH)"
   ]
  },
  {
   "cell_type": "code",
   "execution_count": 17,
   "id": "58624349",
   "metadata": {},
   "outputs": [],
   "source": [
    "SAVE_PATH = Path('./models/CPR4-VGG16.pt')\n",
    "torch.save(cpr4_model.state_dict(), SAVE_PATH)"
   ]
  },
  {
   "cell_type": "code",
   "execution_count": 18,
   "id": "a2390e91",
   "metadata": {},
   "outputs": [],
   "source": [
    "SAVE_PATH = Path('./models/CPR8-VGG16.pt')\n",
    "torch.save(cpr8_model.state_dict(), SAVE_PATH)"
   ]
  },
  {
   "cell_type": "code",
   "execution_count": 19,
   "id": "4b1d7335",
   "metadata": {},
   "outputs": [],
   "source": [
    "SAVE_PATH = Path('./models/CPR16-VGG16.pt')\n",
    "torch.save(cpr16_model.state_dict(), SAVE_PATH)"
   ]
  },
  {
   "cell_type": "code",
   "execution_count": 20,
   "id": "e0be8df8",
   "metadata": {},
   "outputs": [],
   "source": [
    "SAVE_PATH = Path('./models/CPR32-VGG16.pt')\n",
    "torch.save(cpr32_model.state_dict(), SAVE_PATH)"
   ]
  },
  {
   "cell_type": "code",
   "execution_count": 21,
   "id": "31553c47",
   "metadata": {},
   "outputs": [],
   "source": [
    "SAVE_PATH = Path('./models/CPR64-VGG16.pt')\n",
    "torch.save(cpr64_model.state_dict(), SAVE_PATH)"
   ]
  },
  {
   "cell_type": "code",
   "execution_count": 22,
   "id": "f7c00e0e",
   "metadata": {},
   "outputs": [
    {
     "name": "stdout",
     "output_type": "stream",
     "text": [
      "<class 'torchvision.models.vgg.VGG'>\n"
     ]
    },
    {
     "data": {
      "text/plain": [
       "VGG(\n",
       "  (features): Sequential(\n",
       "    (0): Conv2d(3, 64, kernel_size=(3, 3), stride=(1, 1), padding=(1, 1))\n",
       "    (1): ReLU(inplace=True)\n",
       "    (2): Conv2d(64, 64, kernel_size=(3, 3), stride=(1, 1), padding=(1, 1))\n",
       "    (3): ReLU(inplace=True)\n",
       "    (4): MaxPool2d(kernel_size=2, stride=2, padding=0, dilation=1, ceil_mode=False)\n",
       "    (5): Conv2d(64, 128, kernel_size=(3, 3), stride=(1, 1), padding=(1, 1))\n",
       "    (6): ReLU(inplace=True)\n",
       "    (7): Conv2d(128, 128, kernel_size=(3, 3), stride=(1, 1), padding=(1, 1))\n",
       "    (8): ReLU(inplace=True)\n",
       "    (9): MaxPool2d(kernel_size=2, stride=2, padding=0, dilation=1, ceil_mode=False)\n",
       "    (10): Conv2d(128, 256, kernel_size=(3, 3), stride=(1, 1), padding=(1, 1))\n",
       "    (11): ReLU(inplace=True)\n",
       "    (12): Conv2d(256, 256, kernel_size=(3, 3), stride=(1, 1), padding=(1, 1))\n",
       "    (13): ReLU(inplace=True)\n",
       "    (14): Conv2d(256, 256, kernel_size=(3, 3), stride=(1, 1), padding=(1, 1))\n",
       "    (15): ReLU(inplace=True)\n",
       "    (16): MaxPool2d(kernel_size=2, stride=2, padding=0, dilation=1, ceil_mode=False)\n",
       "    (17): Conv2d(256, 512, kernel_size=(3, 3), stride=(1, 1), padding=(1, 1))\n",
       "    (18): ReLU(inplace=True)\n",
       "    (19): Conv2d(512, 512, kernel_size=(3, 3), stride=(1, 1), padding=(1, 1))\n",
       "    (20): ReLU(inplace=True)\n",
       "    (21): Conv2d(512, 512, kernel_size=(3, 3), stride=(1, 1), padding=(1, 1))\n",
       "    (22): ReLU(inplace=True)\n",
       "    (23): MaxPool2d(kernel_size=2, stride=2, padding=0, dilation=1, ceil_mode=False)\n",
       "    (24): Conv2d(512, 512, kernel_size=(3, 3), stride=(1, 1), padding=(1, 1))\n",
       "    (25): ReLU(inplace=True)\n",
       "    (26): Conv2d(512, 512, kernel_size=(3, 3), stride=(1, 1), padding=(1, 1))\n",
       "    (27): ReLU(inplace=True)\n",
       "    (28): Conv2d(512, 512, kernel_size=(3, 3), stride=(1, 1), padding=(1, 1))\n",
       "    (29): ReLU(inplace=True)\n",
       "    (30): MaxPool2d(kernel_size=2, stride=2, padding=0, dilation=1, ceil_mode=False)\n",
       "  )\n",
       "  (avgpool): AdaptiveAvgPool2d(output_size=(7, 7))\n",
       "  (classifier): Sequential(\n",
       "    (0): Linear(in_features=25088, out_features=4096, bias=True)\n",
       "    (1): ReLU(inplace=True)\n",
       "    (2): Dropout(p=0.5, inplace=False)\n",
       "    (3): Linear(in_features=4096, out_features=4096, bias=True)\n",
       "    (4): ReLU(inplace=True)\n",
       "    (5): Dropout(p=0.5, inplace=False)\n",
       "    (6): Linear(in_features=4096, out_features=10, bias=True)\n",
       "  )\n",
       ")"
      ]
     },
     "execution_count": 22,
     "metadata": {},
     "output_type": "execute_result"
    }
   ],
   "source": [
    "load_vgg(SAVE_PATH, norm_layer=False, pruned=True)"
   ]
  },
  {
   "cell_type": "code",
   "execution_count": 10,
   "id": "79713a34",
   "metadata": {},
   "outputs": [],
   "source": [
    "x = [torch.randn((4, 10,10,1)), torch.randn((4, 10,10,1)), torch.randn((4,10,10,1))]"
   ]
  },
  {
   "cell_type": "code",
   "execution_count": 11,
   "id": "c811380c",
   "metadata": {},
   "outputs": [
    {
     "data": {
      "text/plain": [
       "3"
      ]
     },
     "execution_count": 11,
     "metadata": {},
     "output_type": "execute_result"
    }
   ],
   "source": [
    "len(x)"
   ]
  },
  {
   "cell_type": "code",
   "execution_count": 13,
   "id": "66bdb687",
   "metadata": {},
   "outputs": [
    {
     "data": {
      "text/plain": [
       "torch.Size([12, 10, 10, 1])"
      ]
     },
     "execution_count": 13,
     "metadata": {},
     "output_type": "execute_result"
    }
   ],
   "source": [
    "torch.cat(x).shape"
   ]
  },
  {
   "cell_type": "code",
   "execution_count": 19,
   "id": "f8bfe463",
   "metadata": {},
   "outputs": [
    {
     "data": {
      "text/plain": [
       "PosixPath('test/test/test')"
      ]
     },
     "execution_count": 19,
     "metadata": {},
     "output_type": "execute_result"
    }
   ],
   "source": [
    "Path(\"./test/test\",'test')\n"
   ]
  },
  {
   "cell_type": "code",
   "execution_count": 54,
   "id": "5c1859b3",
   "metadata": {},
   "outputs": [],
   "source": [
    "p = Path('./gradcam_hms/low_res/CPR4-VGG16-lr_heatmaps.pt')\n",
    "x = torch.load(p)"
   ]
  },
  {
   "cell_type": "code",
   "execution_count": 55,
   "id": "a5bcbb6e",
   "metadata": {},
   "outputs": [],
   "source": [
    "p = Path('./gradcam_hms/low_res/CPR1-VGG16-lr_heatmaps.pt')\n",
    "y = torch.load(p)"
   ]
  },
  {
   "cell_type": "code",
   "execution_count": 56,
   "id": "ab859a59",
   "metadata": {},
   "outputs": [
    {
     "data": {
      "text/plain": [
       "tensor([[0.1316, 0.0940, 0.0916, 0.0891, 0.0877, 0.0916, 0.1051],\n",
       "        [0.0975, 0.0634, 0.0630, 0.0657, 0.0672, 0.0679, 0.0796],\n",
       "        [0.1120, 0.0733, 0.0891, 0.0920, 0.0662, 0.0665, 0.0958],\n",
       "        [0.1232, 0.2916, 0.3003, 0.0309, 0.0000, 0.0000, 0.0939],\n",
       "        [0.1305, 0.3302, 0.3549, 0.0691, 0.0000, 0.0000, 0.0883],\n",
       "        [0.1044, 0.1598, 0.1825, 0.1847, 0.1067, 0.0440, 0.0824],\n",
       "        [0.1025, 0.0739, 0.0752, 0.0744, 0.0686, 0.0659, 0.1026]])"
      ]
     },
     "execution_count": 56,
     "metadata": {},
     "output_type": "execute_result"
    }
   ],
   "source": [
    "x[0]"
   ]
  },
  {
   "cell_type": "code",
   "execution_count": 57,
   "id": "66af72ef",
   "metadata": {},
   "outputs": [
    {
     "data": {
      "text/plain": [
       "tensor([[0.0934, 0.0709, 0.0695, 0.0654, 0.0587, 0.0644, 0.0754],\n",
       "        [0.0699, 0.0548, 0.0549, 0.0496, 0.0490, 0.0473, 0.0410],\n",
       "        [0.1110, 0.1371, 0.1121, 0.0708, 0.0649, 0.0500, 0.0507],\n",
       "        [0.1451, 0.2304, 0.1544, 0.0174, 0.0000, 0.0006, 0.0681],\n",
       "        [0.0909, 0.1573, 0.2255, 0.0452, 0.0000, 0.0000, 0.0632],\n",
       "        [0.0761, 0.0790, 0.0965, 0.1114, 0.0946, 0.0424, 0.0553],\n",
       "        [0.0673, 0.0551, 0.0501, 0.0477, 0.0371, 0.0366, 0.0707]])"
      ]
     },
     "execution_count": 57,
     "metadata": {},
     "output_type": "execute_result"
    }
   ],
   "source": [
    "y[0]"
   ]
  },
  {
   "cell_type": "code",
   "execution_count": 58,
   "id": "3426a190",
   "metadata": {},
   "outputs": [],
   "source": [
    "import matplotlib.pyplot as plt"
   ]
  },
  {
   "cell_type": "code",
   "execution_count": 59,
   "id": "5df1dc47",
   "metadata": {},
   "outputs": [
    {
     "data": {
      "text/plain": [
       "<matplotlib.image.AxesImage at 0x7eff6daab940>"
      ]
     },
     "execution_count": 59,
     "metadata": {},
     "output_type": "execute_result"
    },
    {
     "data": {
      "image/png": "[encoded data removed]",
      "text/plain": [
       "<Figure size 432x288 with 1 Axes>"
      ]
     },
     "metadata": {
      "needs_background": "light"
     },
     "output_type": "display_data"
    }
   ],
   "source": [
    "plt.imshow(y[0], cmap='jet')"
   ]
  },
  {
   "cell_type": "code",
   "execution_count": 60,
   "id": "7833ed2b",
   "metadata": {},
   "outputs": [
    {
     "data": {
      "text/plain": [
       "<matplotlib.image.AxesImage at 0x7eff6e09f8b0>"
      ]
     },
     "execution_count": 60,
     "metadata": {},
     "output_type": "execute_result"
    },
    {
     "data": {
      "image/png": "[encoded data removed]",
      "text/plain": [
       "<Figure size 432x288 with 1 Axes>"
      ]
     },
     "metadata": {
      "needs_background": "light"
     },
     "output_type": "display_data"
    }
   ],
   "source": [
    "plt.imshow(x[0], cmap='jet')"
   ]
  },
  {
   "cell_type": "code",
   "execution_count": 61,
   "id": "caa379dd",
   "metadata": {},
   "outputs": [
    {
     "data": {
      "text/plain": [
       "tensor(1.6699)"
      ]
     },
     "execution_count": 61,
     "metadata": {},
     "output_type": "execute_result"
    }
   ],
   "source": [
    "(x[0]-y[0]).norm(p=1)"
   ]
  },
  {
   "cell_type": "code",
   "execution_count": null,
   "id": "502e0a9d",
   "metadata": {},
   "outputs": [],
   "source": []
  }
 ],
 "metadata": {
  "kernelspec": {
   "display_name": "Python 3 (ipykernel)",
   "language": "python",
   "name": "python3"
  },
  "language_info": {
   "codemirror_mode": {
    "name": "ipython",
    "version": 3
   },
   "file_extension": ".py",
   "mimetype": "text/x-python",
   "name": "python",
   "nbconvert_exporter": "python",
   "pygments_lexer": "ipython3",
   "version": "3.9.7"
  }
 },
 "nbformat": 4,
 "nbformat_minor": 5
}
